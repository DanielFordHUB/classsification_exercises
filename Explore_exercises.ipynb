{
 "cells": [
  {
   "cell_type": "code",
   "execution_count": 38,
   "id": "88acbbb2",
   "metadata": {},
   "outputs": [],
   "source": [
    "import warnings\n",
    "warnings.filterwarnings(\"ignore\")\n",
    "\n",
    "import pandas as pd\n",
    "import numpy as np\n",
    "import matplotlib.pyplot as plt\n",
    "import seaborn as sns\n",
    "from scipy import stats\n",
    "\n",
    "import env\n",
    "import acquire\n",
    "from prepare import train_validate_test_split, split_iris_data, split_titanic_data, split_telco_data\n",
    "\n",
    "from sklearn.preprocessing import LabelEncoder\n",
    "from sklearn.model_selection import train_test_split\n",
    "from sklearn.impute import SimpleImputer\n"
   ]
  },
  {
   "cell_type": "code",
   "execution_count": 3,
   "id": "6604dbcf",
   "metadata": {},
   "outputs": [],
   "source": [
    "def get_connection(db, user=env.user, host=env.host, password=env.password):\n",
    "    return f'mysql+pymysql://{user}:{password}@{host}/{db}'"
   ]
  },
  {
   "cell_type": "code",
   "execution_count": 4,
   "id": "d751074a",
   "metadata": {},
   "outputs": [],
   "source": [
    "query = \"SELECT measurements.measurement_id, measurements.sepal_length,\\\n",
    "                measurements.sepal_width, measurements.petal_length, \\\n",
    "                measurements.petal_width, species.species_name, species.species_id \\\n",
    "            FROM measurements JOIN species ON(species.species_id=measurements.species_id)\""
   ]
  },
  {
   "cell_type": "code",
   "execution_count": 5,
   "id": "b61f05cd",
   "metadata": {},
   "outputs": [],
   "source": [
    "def get_data():\n",
    "    return pd.read_sql(query, get_connection('iris_db'))"
   ]
  },
  {
   "cell_type": "code",
   "execution_count": 6,
   "id": "6d2e2dfe",
   "metadata": {},
   "outputs": [],
   "source": [
    "df = get_data()"
   ]
  },
  {
   "cell_type": "code",
   "execution_count": 7,
   "id": "b9b79632",
   "metadata": {},
   "outputs": [],
   "source": [
    "def prep_iris_inline(df):\n",
    "    df = df.rename(columns={'species_name': 'species'})\n",
    "    df = df.drop(columns=['measurement_id', 'species_id'])\n",
    "    return df\n"
   ]
  },
  {
   "cell_type": "code",
   "execution_count": 8,
   "id": "b0dccaa8",
   "metadata": {},
   "outputs": [],
   "source": [
    "df = prep_iris_inline(df)"
   ]
  },
  {
   "cell_type": "code",
   "execution_count": null,
   "id": "8744aaa8",
   "metadata": {},
   "outputs": [],
   "source": [
    "df.head()"
   ]
  },
  {
   "cell_type": "code",
   "execution_count": null,
   "id": "c9653cbf",
   "metadata": {},
   "outputs": [],
   "source": [
    "df.info()"
   ]
  },
  {
   "cell_type": "code",
   "execution_count": 10,
   "id": "d01979de",
   "metadata": {},
   "outputs": [],
   "source": [
    "# 80/20 train test split\n",
    "train, test = train_test_split(df, train_size=0.8, random_state=1349, stratify=df.species)\n",
    "# 70/30 train validate split\n",
    "train, validate = train_test_split(train, train_size=0.7, random_state=1349, stratify=train.species)\n",
    "\n"
   ]
  },
  {
   "cell_type": "code",
   "execution_count": 11,
   "id": "9d142042",
   "metadata": {},
   "outputs": [
    {
     "data": {
      "text/plain": [
       "((84, 5), (36, 5), (30, 5))"
      ]
     },
     "execution_count": 11,
     "metadata": {},
     "output_type": "execute_result"
    }
   ],
   "source": [
    "train.shape, validate.shape, test.shape"
   ]
  },
  {
   "cell_type": "markdown",
   "id": "ed928a8b",
   "metadata": {},
   "source": [
    "2. Univariate Stats\n",
    "\n",
    "For each measurement type (quantitative variable): create a histogram, boxplot, & compute descriptive statistics (using .describe()).\n",
    "\n",
    "For each species (categorical variable): create a frequency table and a bar plot of those frequencies.\n",
    "\n",
    "Document takeaways & any actions."
   ]
  },
  {
   "cell_type": "code",
   "execution_count": 13,
   "id": "05bd735b",
   "metadata": {},
   "outputs": [
    {
     "data": {
      "text/html": [
       "<div>\n",
       "<style scoped>\n",
       "    .dataframe tbody tr th:only-of-type {\n",
       "        vertical-align: middle;\n",
       "    }\n",
       "\n",
       "    .dataframe tbody tr th {\n",
       "        vertical-align: top;\n",
       "    }\n",
       "\n",
       "    .dataframe thead th {\n",
       "        text-align: right;\n",
       "    }\n",
       "</style>\n",
       "<table border=\"1\" class=\"dataframe\">\n",
       "  <thead>\n",
       "    <tr style=\"text-align: right;\">\n",
       "      <th></th>\n",
       "      <th>sepal_length</th>\n",
       "      <th>sepal_width</th>\n",
       "      <th>petal_length</th>\n",
       "      <th>petal_width</th>\n",
       "      <th>species</th>\n",
       "    </tr>\n",
       "  </thead>\n",
       "  <tbody>\n",
       "    <tr>\n",
       "      <th>138</th>\n",
       "      <td>6.0</td>\n",
       "      <td>3.0</td>\n",
       "      <td>4.8</td>\n",
       "      <td>1.8</td>\n",
       "      <td>virginica</td>\n",
       "    </tr>\n",
       "    <tr>\n",
       "      <th>7</th>\n",
       "      <td>5.0</td>\n",
       "      <td>3.4</td>\n",
       "      <td>1.5</td>\n",
       "      <td>0.2</td>\n",
       "      <td>setosa</td>\n",
       "    </tr>\n",
       "    <tr>\n",
       "      <th>79</th>\n",
       "      <td>5.7</td>\n",
       "      <td>2.6</td>\n",
       "      <td>3.5</td>\n",
       "      <td>1.0</td>\n",
       "      <td>versicolor</td>\n",
       "    </tr>\n",
       "    <tr>\n",
       "      <th>74</th>\n",
       "      <td>6.4</td>\n",
       "      <td>2.9</td>\n",
       "      <td>4.3</td>\n",
       "      <td>1.3</td>\n",
       "      <td>versicolor</td>\n",
       "    </tr>\n",
       "    <tr>\n",
       "      <th>97</th>\n",
       "      <td>6.2</td>\n",
       "      <td>2.9</td>\n",
       "      <td>4.3</td>\n",
       "      <td>1.3</td>\n",
       "      <td>versicolor</td>\n",
       "    </tr>\n",
       "  </tbody>\n",
       "</table>\n",
       "</div>"
      ],
      "text/plain": [
       "     sepal_length  sepal_width  petal_length  petal_width     species\n",
       "138           6.0          3.0           4.8          1.8   virginica\n",
       "7             5.0          3.4           1.5          0.2      setosa\n",
       "79            5.7          2.6           3.5          1.0  versicolor\n",
       "74            6.4          2.9           4.3          1.3  versicolor\n",
       "97            6.2          2.9           4.3          1.3  versicolor"
      ]
     },
     "execution_count": 13,
     "metadata": {},
     "output_type": "execute_result"
    }
   ],
   "source": [
    "train.head()"
   ]
  },
  {
   "cell_type": "code",
   "execution_count": 15,
   "id": "ba24e2ac",
   "metadata": {},
   "outputs": [
    {
     "data": {
      "text/html": [
       "<div>\n",
       "<style scoped>\n",
       "    .dataframe tbody tr th:only-of-type {\n",
       "        vertical-align: middle;\n",
       "    }\n",
       "\n",
       "    .dataframe tbody tr th {\n",
       "        vertical-align: top;\n",
       "    }\n",
       "\n",
       "    .dataframe thead th {\n",
       "        text-align: right;\n",
       "    }\n",
       "</style>\n",
       "<table border=\"1\" class=\"dataframe\">\n",
       "  <thead>\n",
       "    <tr style=\"text-align: right;\">\n",
       "      <th></th>\n",
       "      <th>sepal_length</th>\n",
       "      <th>sepal_width</th>\n",
       "      <th>petal_length</th>\n",
       "      <th>petal_width</th>\n",
       "    </tr>\n",
       "  </thead>\n",
       "  <tbody>\n",
       "    <tr>\n",
       "      <th>count</th>\n",
       "      <td>84.000000</td>\n",
       "      <td>84.000000</td>\n",
       "      <td>84.000000</td>\n",
       "      <td>84.000000</td>\n",
       "    </tr>\n",
       "    <tr>\n",
       "      <th>mean</th>\n",
       "      <td>5.847619</td>\n",
       "      <td>3.053571</td>\n",
       "      <td>3.738095</td>\n",
       "      <td>1.208333</td>\n",
       "    </tr>\n",
       "    <tr>\n",
       "      <th>std</th>\n",
       "      <td>0.841324</td>\n",
       "      <td>0.417233</td>\n",
       "      <td>1.765459</td>\n",
       "      <td>0.775717</td>\n",
       "    </tr>\n",
       "    <tr>\n",
       "      <th>min</th>\n",
       "      <td>4.300000</td>\n",
       "      <td>2.000000</td>\n",
       "      <td>1.000000</td>\n",
       "      <td>0.100000</td>\n",
       "    </tr>\n",
       "    <tr>\n",
       "      <th>25%</th>\n",
       "      <td>5.075000</td>\n",
       "      <td>2.800000</td>\n",
       "      <td>1.600000</td>\n",
       "      <td>0.375000</td>\n",
       "    </tr>\n",
       "    <tr>\n",
       "      <th>50%</th>\n",
       "      <td>5.900000</td>\n",
       "      <td>3.000000</td>\n",
       "      <td>4.300000</td>\n",
       "      <td>1.300000</td>\n",
       "    </tr>\n",
       "    <tr>\n",
       "      <th>75%</th>\n",
       "      <td>6.425000</td>\n",
       "      <td>3.300000</td>\n",
       "      <td>5.100000</td>\n",
       "      <td>1.800000</td>\n",
       "    </tr>\n",
       "    <tr>\n",
       "      <th>max</th>\n",
       "      <td>7.700000</td>\n",
       "      <td>4.400000</td>\n",
       "      <td>6.900000</td>\n",
       "      <td>2.500000</td>\n",
       "    </tr>\n",
       "  </tbody>\n",
       "</table>\n",
       "</div>"
      ],
      "text/plain": [
       "       sepal_length  sepal_width  petal_length  petal_width\n",
       "count     84.000000    84.000000     84.000000    84.000000\n",
       "mean       5.847619     3.053571      3.738095     1.208333\n",
       "std        0.841324     0.417233      1.765459     0.775717\n",
       "min        4.300000     2.000000      1.000000     0.100000\n",
       "25%        5.075000     2.800000      1.600000     0.375000\n",
       "50%        5.900000     3.000000      4.300000     1.300000\n",
       "75%        6.425000     3.300000      5.100000     1.800000\n",
       "max        7.700000     4.400000      6.900000     2.500000"
      ]
     },
     "execution_count": 15,
     "metadata": {},
     "output_type": "execute_result"
    }
   ],
   "source": [
    "train.describe()"
   ]
  },
  {
   "cell_type": "code",
   "execution_count": 20,
   "id": "2196a45f",
   "metadata": {},
   "outputs": [
    {
     "data": {
      "image/png": "[encoded data removed]",
      "text/plain": [
       "<Figure size 432x288 with 1 Axes>"
      ]
     },
     "metadata": {
      "needs_background": "light"
     },
     "output_type": "display_data"
    },
    {
     "data": {
      "image/png": "[encoded data removed]",
      "text/plain": [
       "<Figure size 432x288 with 1 Axes>"
      ]
     },
     "metadata": {
      "needs_background": "light"
     },
     "output_type": "display_data"
    },
    {
     "data": {
      "image/png": "[encoded data removed]",
      "text/plain": [
       "<Figure size 432x288 with 1 Axes>"
      ]
     },
     "metadata": {
      "needs_background": "light"
     },
     "output_type": "display_data"
    },
    {
     "data": {
      "image/png": "[encoded data removed]",
      "text/plain": [
       "<Figure size 432x288 with 1 Axes>"
      ]
     },
     "metadata": {
      "needs_background": "light"
     },
     "output_type": "display_data"
    },
    {
     "data": {
      "image/png": "[encoded data removed]",
      "text/plain": [
       "<Figure size 432x288 with 1 Axes>"
      ]
     },
     "metadata": {
      "needs_background": "light"
     },
     "output_type": "display_data"
    },
    {
     "data": {
      "image/png": "[encoded data removed]",
      "text/plain": [
       "<Figure size 432x288 with 1 Axes>"
      ]
     },
     "metadata": {
      "needs_background": "light"
     },
     "output_type": "display_data"
    },
    {
     "data": {
      "image/png": "[encoded data removed]",
      "text/plain": [
       "<Figure size 432x288 with 1 Axes>"
      ]
     },
     "metadata": {
      "needs_background": "light"
     },
     "output_type": "display_data"
    },
    {
     "data": {
      "image/png": "[encoded data removed]",
      "text/plain": [
       "<Figure size 432x288 with 1 Axes>"
      ]
     },
     "metadata": {
      "needs_background": "light"
     },
     "output_type": "display_data"
    }
   ],
   "source": [
    "num_cols = train.columns[[train[col].dtype=='float64' for col in train.columns]]\n",
    "for col in num_cols:\n",
    "    plt.hist(train[col])\n",
    "    plt.title(col)\n",
    "    plt.show()\n",
    "    plt.boxplot(train[col])\n",
    "    plt.title(col)\n",
    "    plt.show()"
   ]
  },
  {
   "cell_type": "code",
   "execution_count": 21,
   "id": "7af74309",
   "metadata": {},
   "outputs": [
    {
     "data": {
      "text/plain": [
       "virginica     28\n",
       "setosa        28\n",
       "versicolor    28\n",
       "Name: species, dtype: int64"
      ]
     },
     "execution_count": 21,
     "metadata": {},
     "output_type": "execute_result"
    }
   ],
   "source": [
    "train.species.value_counts()"
   ]
  },
  {
   "cell_type": "code",
   "execution_count": 22,
   "id": "8319a060",
   "metadata": {},
   "outputs": [
    {
     "data": {
      "text/plain": [
       "(array([28.,  0.,  0.,  0.,  0., 28.,  0.,  0.,  0., 28.]),\n",
       " array([0. , 0.2, 0.4, 0.6, 0.8, 1. , 1.2, 1.4, 1.6, 1.8, 2. ]),\n",
       " <BarContainer object of 10 artists>)"
      ]
     },
     "execution_count": 22,
     "metadata": {},
     "output_type": "execute_result"
    },
    {
     "data": {
      "image/png": "[encoded data removed]",
      "text/plain": [
       "<Figure size 432x288 with 1 Axes>"
      ]
     },
     "metadata": {
      "needs_background": "light"
     },
     "output_type": "display_data"
    }
   ],
   "source": [
    "plt.hist(train.species)"
   ]
  },
  {
   "cell_type": "code",
   "execution_count": 27,
   "id": "d9676922",
   "metadata": {},
   "outputs": [
    {
     "data": {
      "image/png": "[encoded data removed]",
      "text/plain": [
       "<Figure size 432x288 with 1 Axes>"
      ]
     },
     "metadata": {
      "needs_background": "light"
     },
     "output_type": "display_data"
    }
   ],
   "source": [
    "plt.title('Virginica has highesst mean sepal length')\n",
    "sns.barplot(x='species', y = 'sepal_length', data = train)\n",
    "mean_sepal_length = train.sepal_length.mean()\n",
    "plt.axhline(mean_sepal_length,label = 'Mean sepal length', color = 'r', linestyle = ':')\n",
    "plt.xlabel('')\n",
    "plt.legend()\n",
    "plt.show()\n"
   ]
  },
  {
   "cell_type": "code",
   "execution_count": 29,
   "id": "fe331d76",
   "metadata": {},
   "outputs": [
    {
     "data": {
      "image/png": "[encoded data removed]",
      "text/plain": [
       "<Figure size 432x288 with 1 Axes>"
      ]
     },
     "metadata": {
      "needs_background": "light"
     },
     "output_type": "display_data"
    }
   ],
   "source": [
    "plt.title('setosa has highest mean sepal width')\n",
    "sns.barplot(x='species', y='sepal_width', data = train)\n",
    "mean_sepal_width = train.sepal_width.mean()\n",
    "plt.axhline(mean_sepal_width, label = 'Mean sepal width', color ='r', ls = ':')\n",
    "plt.xlabel('')\n",
    "plt.legend()\n",
    "plt.show()"
   ]
  },
  {
   "cell_type": "code",
   "execution_count": 31,
   "id": "59160ccd",
   "metadata": {},
   "outputs": [
    {
     "data": {
      "image/png": "[encoded data removed]",
      "text/plain": [
       "<Figure size 432x288 with 1 Axes>"
      ]
     },
     "metadata": {
      "needs_background": "light"
     },
     "output_type": "display_data"
    }
   ],
   "source": [
    "plt.title(\"Virginica has highest mean petal length\")\n",
    "sns.barplot(x = 'species', y= 'petal_length', data = train)\n",
    "mean_petal_length = train.petal_length.mean()\n",
    "plt.axhline(mean_petal_length, label = 'Mean petal length', color = 'r', ls = ':')\n",
    "plt.xlabel('')\n",
    "plt.legend()\n",
    "plt.show()"
   ]
  },
  {
   "cell_type": "code",
   "execution_count": 32,
   "id": "844125c2",
   "metadata": {},
   "outputs": [
    {
     "data": {
      "image/png": "[encoded data removed]",
      "text/plain": [
       "<Figure size 432x288 with 1 Axes>"
      ]
     },
     "metadata": {
      "needs_background": "light"
     },
     "output_type": "display_data"
    }
   ],
   "source": [
    "plt.title(\"Setosa has smallest mean petal width\")\n",
    "sns.barplot(x=\"species\", y=\"petal_width\", data=train)\n",
    "mean_petal_width = train.petal_width.mean()\n",
    "plt.axhline(mean_petal_width, label=\"Mean petal width\", color='red', linestyle='dotted')\n",
    "plt.xlabel('')\n",
    "plt.legend()\n",
    "plt.show()"
   ]
  },
  {
   "cell_type": "code",
   "execution_count": 34,
   "id": "0a375521",
   "metadata": {},
   "outputs": [
    {
     "data": {
      "text/html": [
       "<div>\n",
       "<style scoped>\n",
       "    .dataframe tbody tr th:only-of-type {\n",
       "        vertical-align: middle;\n",
       "    }\n",
       "\n",
       "    .dataframe tbody tr th {\n",
       "        vertical-align: top;\n",
       "    }\n",
       "\n",
       "    .dataframe thead th {\n",
       "        text-align: right;\n",
       "    }\n",
       "</style>\n",
       "<table border=\"1\" class=\"dataframe\">\n",
       "  <thead>\n",
       "    <tr style=\"text-align: right;\">\n",
       "      <th></th>\n",
       "      <th>sepal_length</th>\n",
       "      <th>sepal_width</th>\n",
       "      <th>petal_length</th>\n",
       "      <th>petal_width</th>\n",
       "    </tr>\n",
       "  </thead>\n",
       "  <tbody>\n",
       "    <tr>\n",
       "      <th>count</th>\n",
       "      <td>28.000000</td>\n",
       "      <td>28.000000</td>\n",
       "      <td>28.000000</td>\n",
       "      <td>28.000000</td>\n",
       "    </tr>\n",
       "    <tr>\n",
       "      <th>mean</th>\n",
       "      <td>6.650000</td>\n",
       "      <td>2.975000</td>\n",
       "      <td>5.539286</td>\n",
       "      <td>2.046429</td>\n",
       "    </tr>\n",
       "    <tr>\n",
       "      <th>std</th>\n",
       "      <td>0.532986</td>\n",
       "      <td>0.260519</td>\n",
       "      <td>0.525173</td>\n",
       "      <td>0.294998</td>\n",
       "    </tr>\n",
       "    <tr>\n",
       "      <th>min</th>\n",
       "      <td>5.800000</td>\n",
       "      <td>2.200000</td>\n",
       "      <td>4.800000</td>\n",
       "      <td>1.500000</td>\n",
       "    </tr>\n",
       "    <tr>\n",
       "      <th>25%</th>\n",
       "      <td>6.300000</td>\n",
       "      <td>2.800000</td>\n",
       "      <td>5.100000</td>\n",
       "      <td>1.800000</td>\n",
       "    </tr>\n",
       "    <tr>\n",
       "      <th>50%</th>\n",
       "      <td>6.600000</td>\n",
       "      <td>3.000000</td>\n",
       "      <td>5.550000</td>\n",
       "      <td>2.050000</td>\n",
       "    </tr>\n",
       "    <tr>\n",
       "      <th>75%</th>\n",
       "      <td>6.900000</td>\n",
       "      <td>3.200000</td>\n",
       "      <td>5.825000</td>\n",
       "      <td>2.300000</td>\n",
       "    </tr>\n",
       "    <tr>\n",
       "      <th>max</th>\n",
       "      <td>7.700000</td>\n",
       "      <td>3.400000</td>\n",
       "      <td>6.900000</td>\n",
       "      <td>2.500000</td>\n",
       "    </tr>\n",
       "  </tbody>\n",
       "</table>\n",
       "</div>"
      ],
      "text/plain": [
       "       sepal_length  sepal_width  petal_length  petal_width\n",
       "count     28.000000    28.000000     28.000000    28.000000\n",
       "mean       6.650000     2.975000      5.539286     2.046429\n",
       "std        0.532986     0.260519      0.525173     0.294998\n",
       "min        5.800000     2.200000      4.800000     1.500000\n",
       "25%        6.300000     2.800000      5.100000     1.800000\n",
       "50%        6.600000     3.000000      5.550000     2.050000\n",
       "75%        6.900000     3.200000      5.825000     2.300000\n",
       "max        7.700000     3.400000      6.900000     2.500000"
      ]
     },
     "execution_count": 34,
     "metadata": {},
     "output_type": "execute_result"
    }
   ],
   "source": [
    "# Virginica descriptive statistics\n",
    "virginica_describe_sl = pd.DataFrame(train[train.species == 'virginica'].sepal_length.describe())\n",
    "virginica_describe_sw = pd.DataFrame(train[train.species == 'virginica'].sepal_width.describe())\n",
    "virginica_describe_pl = pd.DataFrame(train[train.species == 'virginica'].petal_length.describe())\n",
    "virginica_describe_pw = pd.DataFrame(train[train.species == 'virginica'].petal_width.describe())\n",
    "\n",
    "virginica_describe = pd.concat([virginica_describe_sl, virginica_describe_sw], axis=1)\n",
    "virginica_describe = pd.concat([virginica_describe, virginica_describe_pl], axis=1)\n",
    "virginica_describe = pd.concat([virginica_describe, virginica_describe_pw], axis=1)\n",
    "virginica_describe"
   ]
  },
  {
   "cell_type": "code",
   "execution_count": 35,
   "id": "1286e550",
   "metadata": {},
   "outputs": [
    {
     "data": {
      "text/html": [
       "<div>\n",
       "<style scoped>\n",
       "    .dataframe tbody tr th:only-of-type {\n",
       "        vertical-align: middle;\n",
       "    }\n",
       "\n",
       "    .dataframe tbody tr th {\n",
       "        vertical-align: top;\n",
       "    }\n",
       "\n",
       "    .dataframe thead th {\n",
       "        text-align: right;\n",
       "    }\n",
       "</style>\n",
       "<table border=\"1\" class=\"dataframe\">\n",
       "  <thead>\n",
       "    <tr style=\"text-align: right;\">\n",
       "      <th></th>\n",
       "      <th>sepal_length</th>\n",
       "      <th>sepal_width</th>\n",
       "      <th>petal_length</th>\n",
       "      <th>petal_width</th>\n",
       "    </tr>\n",
       "  </thead>\n",
       "  <tbody>\n",
       "    <tr>\n",
       "      <th>count</th>\n",
       "      <td>28.000000</td>\n",
       "      <td>28.000000</td>\n",
       "      <td>28.000000</td>\n",
       "      <td>28.000000</td>\n",
       "    </tr>\n",
       "    <tr>\n",
       "      <th>mean</th>\n",
       "      <td>4.957143</td>\n",
       "      <td>3.385714</td>\n",
       "      <td>1.457143</td>\n",
       "      <td>0.246429</td>\n",
       "    </tr>\n",
       "    <tr>\n",
       "      <th>std</th>\n",
       "      <td>0.362531</td>\n",
       "      <td>0.433516</td>\n",
       "      <td>0.185450</td>\n",
       "      <td>0.129048</td>\n",
       "    </tr>\n",
       "    <tr>\n",
       "      <th>min</th>\n",
       "      <td>4.300000</td>\n",
       "      <td>2.300000</td>\n",
       "      <td>1.000000</td>\n",
       "      <td>0.100000</td>\n",
       "    </tr>\n",
       "    <tr>\n",
       "      <th>25%</th>\n",
       "      <td>4.775000</td>\n",
       "      <td>3.100000</td>\n",
       "      <td>1.400000</td>\n",
       "      <td>0.200000</td>\n",
       "    </tr>\n",
       "    <tr>\n",
       "      <th>50%</th>\n",
       "      <td>5.000000</td>\n",
       "      <td>3.350000</td>\n",
       "      <td>1.500000</td>\n",
       "      <td>0.200000</td>\n",
       "    </tr>\n",
       "    <tr>\n",
       "      <th>75%</th>\n",
       "      <td>5.100000</td>\n",
       "      <td>3.625000</td>\n",
       "      <td>1.600000</td>\n",
       "      <td>0.325000</td>\n",
       "    </tr>\n",
       "    <tr>\n",
       "      <th>max</th>\n",
       "      <td>5.800000</td>\n",
       "      <td>4.400000</td>\n",
       "      <td>1.900000</td>\n",
       "      <td>0.600000</td>\n",
       "    </tr>\n",
       "  </tbody>\n",
       "</table>\n",
       "</div>"
      ],
      "text/plain": [
       "       sepal_length  sepal_width  petal_length  petal_width\n",
       "count     28.000000    28.000000     28.000000    28.000000\n",
       "mean       4.957143     3.385714      1.457143     0.246429\n",
       "std        0.362531     0.433516      0.185450     0.129048\n",
       "min        4.300000     2.300000      1.000000     0.100000\n",
       "25%        4.775000     3.100000      1.400000     0.200000\n",
       "50%        5.000000     3.350000      1.500000     0.200000\n",
       "75%        5.100000     3.625000      1.600000     0.325000\n",
       "max        5.800000     4.400000      1.900000     0.600000"
      ]
     },
     "execution_count": 35,
     "metadata": {},
     "output_type": "execute_result"
    }
   ],
   "source": [
    "# Setosa descriptive statistics\n",
    "setosa_describe_sl = pd.DataFrame(train[train.species == 'setosa'].sepal_length.describe())\n",
    "setosa_describe_sw = pd.DataFrame(train[train.species == 'setosa'].sepal_width.describe())\n",
    "setosa_describe_pl = pd.DataFrame(train[train.species == 'setosa'].petal_length.describe())\n",
    "setosa_describe_pw = pd.DataFrame(train[train.species == 'setosa'].petal_width.describe())\n",
    "\n",
    "setosa_describe = pd.concat([setosa_describe_sl, setosa_describe_sw], axis=1)\n",
    "setosa_describe = pd.concat([setosa_describe, setosa_describe_pl], axis=1)\n",
    "setosa_describe = pd.concat([setosa_describe, setosa_describe_pw], axis=1)\n",
    "setosa_describe"
   ]
  },
  {
   "cell_type": "code",
   "execution_count": 36,
   "id": "65f6a2eb",
   "metadata": {},
   "outputs": [
    {
     "data": {
      "text/html": [
       "<div>\n",
       "<style scoped>\n",
       "    .dataframe tbody tr th:only-of-type {\n",
       "        vertical-align: middle;\n",
       "    }\n",
       "\n",
       "    .dataframe tbody tr th {\n",
       "        vertical-align: top;\n",
       "    }\n",
       "\n",
       "    .dataframe thead th {\n",
       "        text-align: right;\n",
       "    }\n",
       "</style>\n",
       "<table border=\"1\" class=\"dataframe\">\n",
       "  <thead>\n",
       "    <tr style=\"text-align: right;\">\n",
       "      <th></th>\n",
       "      <th>sepal_length</th>\n",
       "      <th>sepal_width</th>\n",
       "      <th>petal_length</th>\n",
       "      <th>petal_width</th>\n",
       "    </tr>\n",
       "  </thead>\n",
       "  <tbody>\n",
       "    <tr>\n",
       "      <th>count</th>\n",
       "      <td>28.000000</td>\n",
       "      <td>28.000000</td>\n",
       "      <td>28.000000</td>\n",
       "      <td>28.000000</td>\n",
       "    </tr>\n",
       "    <tr>\n",
       "      <th>mean</th>\n",
       "      <td>5.935714</td>\n",
       "      <td>2.800000</td>\n",
       "      <td>4.217857</td>\n",
       "      <td>1.332143</td>\n",
       "    </tr>\n",
       "    <tr>\n",
       "      <th>std</th>\n",
       "      <td>0.512231</td>\n",
       "      <td>0.303071</td>\n",
       "      <td>0.522142</td>\n",
       "      <td>0.205577</td>\n",
       "    </tr>\n",
       "    <tr>\n",
       "      <th>min</th>\n",
       "      <td>5.000000</td>\n",
       "      <td>2.000000</td>\n",
       "      <td>3.000000</td>\n",
       "      <td>1.000000</td>\n",
       "    </tr>\n",
       "    <tr>\n",
       "      <th>25%</th>\n",
       "      <td>5.600000</td>\n",
       "      <td>2.700000</td>\n",
       "      <td>3.900000</td>\n",
       "      <td>1.275000</td>\n",
       "    </tr>\n",
       "    <tr>\n",
       "      <th>50%</th>\n",
       "      <td>6.000000</td>\n",
       "      <td>2.900000</td>\n",
       "      <td>4.300000</td>\n",
       "      <td>1.300000</td>\n",
       "    </tr>\n",
       "    <tr>\n",
       "      <th>75%</th>\n",
       "      <td>6.300000</td>\n",
       "      <td>3.000000</td>\n",
       "      <td>4.600000</td>\n",
       "      <td>1.500000</td>\n",
       "    </tr>\n",
       "    <tr>\n",
       "      <th>max</th>\n",
       "      <td>6.900000</td>\n",
       "      <td>3.400000</td>\n",
       "      <td>5.100000</td>\n",
       "      <td>1.700000</td>\n",
       "    </tr>\n",
       "  </tbody>\n",
       "</table>\n",
       "</div>"
      ],
      "text/plain": [
       "       sepal_length  sepal_width  petal_length  petal_width\n",
       "count     28.000000    28.000000     28.000000    28.000000\n",
       "mean       5.935714     2.800000      4.217857     1.332143\n",
       "std        0.512231     0.303071      0.522142     0.205577\n",
       "min        5.000000     2.000000      3.000000     1.000000\n",
       "25%        5.600000     2.700000      3.900000     1.275000\n",
       "50%        6.000000     2.900000      4.300000     1.300000\n",
       "75%        6.300000     3.000000      4.600000     1.500000\n",
       "max        6.900000     3.400000      5.100000     1.700000"
      ]
     },
     "execution_count": 36,
     "metadata": {},
     "output_type": "execute_result"
    }
   ],
   "source": [
    "# Versicolor descriptive statistics\n",
    "versicolor_describe_sl = pd.DataFrame(train[train.species == 'versicolor'].sepal_length.describe())\n",
    "versicolor_describe_sw = pd.DataFrame(train[train.species == 'versicolor'].sepal_width.describe())\n",
    "versicolor_describe_pl = pd.DataFrame(train[train.species == 'versicolor'].petal_length.describe())\n",
    "versicolor_describe_pw = pd.DataFrame(train[train.species == 'versicolor'].petal_width.describe())\n",
    "\n",
    "versicolor_describe = pd.concat([versicolor_describe_sl, versicolor_describe_sw], axis=1)\n",
    "versicolor_describe = pd.concat([versicolor_describe, versicolor_describe_pl], axis=1)\n",
    "versicolor_describe = pd.concat([versicolor_describe, versicolor_describe_pw], axis=1)\n",
    "versicolor_describe"
   ]
  },
  {
   "cell_type": "code",
   "execution_count": 39,
   "id": "3e325653",
   "metadata": {},
   "outputs": [
    {
     "data": {
      "text/plain": [
       "(768.5, 2.982389808696449e-10)"
      ]
     },
     "execution_count": 39,
     "metadata": {},
     "output_type": "execute_result"
    }
   ],
   "source": [
    "virginica = train[train.species == 'virginica']\n",
    "versicolor = train[train.species == 'versicolor']\n",
    "setosa = train[train.species == 'setosa']\n",
    "\n",
    "t, p = stats.mannwhitneyu(virginica.petal_width, versicolor.petal_width, alternative=\"greater\")\n",
    "t, p"
   ]
  },
  {
   "cell_type": "code",
   "execution_count": 40,
   "id": "d2f6f355",
   "metadata": {},
   "outputs": [
    {
     "name": "stdout",
     "output_type": "stream",
     "text": [
      "Comparing sepal_length between virginica and versicolor\n",
      "652.0 1.0119920315840621e-05\n",
      "------------------\n",
      "\n",
      "\n",
      "Comparing sepal_width between virginica and versicolor\n",
      "534.0 0.009508012794926874\n",
      "------------------\n",
      "\n",
      "\n",
      "Comparing petal_length between virginica and versicolor\n",
      "771.5 2.5253450566492905e-10\n",
      "------------------\n",
      "\n",
      "\n",
      "Comparing petal_width between virginica and versicolor\n",
      "768.5 2.982389808696449e-10\n",
      "------------------\n",
      "\n",
      "\n"
     ]
    }
   ],
   "source": [
    "test_var = ['sepal_length', 'sepal_width', 'petal_length', 'petal_width']\n",
    "for var in test_var:\n",
    "    t, p = t, p = stats.mannwhitneyu(virginica[var], versicolor[var], alternative=\"greater\")\n",
    "    print(f'Comparing {var} between virginica and versicolor')\n",
    "    print(t, p)\n",
    "    print('------------------')\n",
    "    print('\\n')"
   ]
  }
 ],
 "metadata": {
  "kernelspec": {
   "display_name": "Python 3 (ipykernel)",
   "language": "python",
   "name": "python3"
  },
  "language_info": {
   "codemirror_mode": {
    "name": "ipython",
    "version": 3
   },
   "file_extension": ".py",
   "mimetype": "text/x-python",
   "name": "python",
   "nbconvert_exporter": "python",
   "pygments_lexer": "ipython3",
   "version": "3.9.12"
  }
 },
 "nbformat": 4,
 "nbformat_minor": 5
}
